{
 "cells": [
  {
   "cell_type": "code",
   "execution_count": 2,
   "metadata": {},
   "outputs": [],
   "source": [
    "import csv\n",
    "with open('inputlist.csv', newline='') as f:\n",
    "\treader = csv.reader(f)\n",
    "\tdata = list(reader)"
   ]
  },
  {
   "cell_type": "code",
   "execution_count": 4,
   "metadata": {},
   "outputs": [],
   "source": [
    "with open(\"outputScriptsFile.txt\", \"w\") as text_file:\n",
    "\ti = 0\n",
    "\twhile i <= (len(data) - 1):\n",
    "\t\tprint(\n",
    "\t\"\"\"prefix_timeDate_\"\"\".rstrip() + str(data[i]).replace(\"['\", \"\").replace(\"']\", \":\") + \"\"\"\n",
    "\tsource.event:\n",
    "\t\t- eventType: \"source\"\n",
    "\t\t- identifier: \" \"\"\".rstrip() + str(data[i]).replace(\"['\", \"\").replace(\"']\", \"\") + \"\"\" \"\n",
    "\t\t- actions:\n",
    "\t\t\t- tag: action1\n",
    "\t\t\t- tag: action2\n",
    "\t\t- onlyif:\n",
    "\t\t\t- key:\n",
    "\t\t\t\tsomeflagMetadata: PROBLEM\n",
    "\t\t- environment: env1\n",
    "\t\t\"\"\".lstrip(), file=text_file\n",
    "\t\t)\n",
    "\t\ti = i + 1"
   ]
  },
  {
   "cell_type": "code",
   "execution_count": null,
   "metadata": {},
   "outputs": [],
   "source": []
  }
 ],
 "metadata": {
  "kernelspec": {
   "display_name": "Python 3",
   "language": "python",
   "name": "python3"
  },
  "language_info": {
   "codemirror_mode": {
    "name": "ipython",
    "version": 3
   },
   "file_extension": ".py",
   "mimetype": "text/x-python",
   "name": "python",
   "nbconvert_exporter": "python",
   "pygments_lexer": "ipython3",
   "version": "3.8.5"
  }
 },
 "nbformat": 4,
 "nbformat_minor": 4
}
